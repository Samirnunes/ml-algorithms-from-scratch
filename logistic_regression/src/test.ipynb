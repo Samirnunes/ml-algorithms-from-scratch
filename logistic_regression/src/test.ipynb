{
 "cells": [
  {
   "cell_type": "markdown",
   "metadata": {},
   "source": [
    "## Logistic Regression\n",
    "\n",
    "The cost function used in the logistic regression model is the log loss:\n",
    "\n",
    "$$Log\\;Loss = -\\frac{1}{n}\\sum_{i = 1}^{n} y\\;log(\\hat{y}) + (1-y)\\;log(1-\\hat{y})$$\n",
    "\n",
    "where y is the dataset's training label (0 or 1) and $\\hat{y}$ is the label value predicted by the model (something between 0 and 1), given the features values. The value of $\\hat{y}$ is obtained by the use of the sigmoid activation function in a linear model. So, we define:\n",
    "\n",
    "\n",
    "$$z = b + \\sum_{i = 1}^{m} w_{i} x_{i}$$\n",
    "\n",
    "$$\\hat{y} = sigmoid(z) = sig(z) = \\frac{1}{1 + e^{-z}}$$\n",
    "\n",
    "Where $w_{i}$ is the weight of the $x_{i}$ feature in the model.\n",
    "\n",
    "In this model, we will also apply the $L_{1}$ regularization, responsible to bring the weights of less important features (with very small weights) to practically zero, making, then, a feature selection that generates a more sparse model. The $L_{1}$ regularization function is given by:\n",
    "\n",
    "$L_{1}\\;regularization\\;term = \\sum_{i = 1}^{m} |w_{i}|$\n",
    "\n",
    "Then, the function we want to minimize is:\n",
    "\n",
    "$$f(\\theta) = Log\\;Loss + L_{1}\\;regularization\\;term = -\\frac{1}{n}\\sum_{i = 1}^{n} y_{i}\\;log(\\hat{y}_{i}) + (1-y_{i})\\;log(1-\\hat{y}_{i}) + \\lambda\\sum_{i = 1}^{m} |w_{i}|$$\n",
    "\n",
    "where $\\lambda$ is the regularization constant, $\\theta = (w_{1}, w_{2}, ..., w_{n}, b)$, where $n$ is the number of data rows we have in the training set and $m$ is the number of features. \n",
    "\n",
    "We know that: $\\frac{d\\hat{y}_{i}}{dz_{i}} = sig(z_{i}) \\cdot (1-sig(z_{i}))$ (verify!)\n",
    "\n",
    "We can, then, calculate the partial derivatives of $\\hat{y}_{i}$:\n",
    "\n",
    "$$\\frac{\\partial{\\hat{y}_{i}}}{\\partial{w_{k}}} = \\frac{d\\hat{y}_{i}}{dz_{i}} \\cdot \\frac{\\partial{z_{i}}}{\\partial{w_{k}}} = sig(z_{i})\\cdot(1-sig(z_{i}))\\cdot x_{k}$$\n",
    "\n",
    "for each feature $x_{k}$, and:\n",
    "\n",
    "$$\\frac{\\partial{\\hat{y}_{i}}}{\\partial{b}} = \\frac{d\\hat{y}_{i}}{dz_{i}} \\cdot \\frac{\\partial{z_{i}}}{\\partial{b}} = sig(z_{i})\\cdot(1-sig(z_{i}))$$\n",
    "\n",
    "Calculating now the partial derivatives of $f(\\theta)$:\n",
    "\n",
    "$$\\frac{\\partial{f}}{\\partial{w_{k}}} = -\\frac{1}{n}\\sum_{i = 1}^{n}\\left[y_{i}\\cdot \\frac{sig(z_{i})\\cdot(1-sig(z_{i}))\\cdot (x_{k})_{i}}{\\hat{y}_{i}} - (1-y_{i})\\cdot\\frac{sig(z_{i})\\cdot(1-sig(z_{i}))\\cdot (x_{k})_{i}}{(1-\\hat{y}_{i})}\\right] + \\lambda \\frac{|w_{k}|}{w_{k}}$$\n",
    "\n",
    "$$\\frac{\\partial{f}}{\\partial{b}} = -\\frac{1}{n}\\sum_{i = 1}^{n}\\left[y_{i}\\cdot \\frac{sig(z_{i})\\cdot(1-sig(z_{i}))}{\\hat{y}_{i}} - (1-y_{i})\\cdot\\frac{sig(z_{i})\\cdot(1-sig(z_{i}))}{(1-\\hat{y}_{i})}\\right]$$\n",
    "\n",
    "With $\\alpha$ being the model's learning rate, the new weights and bias values are going to be:\n",
    "\n",
    "$$w_{k}' = w_{k} - \\alpha \\frac{\\partial{f}}{\\partial{w_{k}}}$$\n",
    "\n",
    "$$b' = b - \\alpha \\frac{\\partial{f}}{\\partial{b}}$$\n",
    "\n",
    "Developing, we finally have:\n",
    "\n",
    "$$w_{k}' = w_{k} + \\frac{\\alpha}{n}\\sum_{i = 1}^{n}(x_{k})_{i}\\cdot\\left(y_{i} - \\hat{y}_{i}\\right) - \\alpha \\lambda \\frac{|w_{k}|}{w_{k}}$$\n",
    "\n",
    "$$b' = b + \\frac{\\alpha}{n}\\sum_{i = 1}^{n}\\left(y_{i} - \\hat{y}_{i}\\right) $$"
   ]
  },
  {
   "cell_type": "markdown",
   "metadata": {},
   "source": [
    "### Importing Libraries"
   ]
  },
  {
   "cell_type": "code",
   "execution_count": 1,
   "metadata": {
    "ExecuteTime": {
     "end_time": "2024-01-27T20:50:24.944108700Z",
     "start_time": "2024-01-27T20:50:24.858179400Z"
    }
   },
   "outputs": [],
   "source": [
    "import sys\n",
    "\n",
    "sys.path.append('../../..')\n",
    "import os\n",
    "import matplotlib.pyplot as plt\n",
    "from sklearn.model_selection import train_test_split\n",
    "from sklearn.metrics import precision_recall_curve, precision_score, recall_score\n",
    "from model_implementation_utils import *\n",
    "from preprocessing import preprocessing_pipeline\n",
    "from logistic_regressor import LogisticRegressor\n",
    "from logistic_regression_parameters import LogisticRegressionParameters"
   ]
  },
  {
   "cell_type": "markdown",
   "metadata": {},
   "source": [
    "### Importing Data"
   ]
  },
  {
   "cell_type": "code",
   "execution_count": 2,
   "metadata": {
    "ExecuteTime": {
     "end_time": "2024-01-27T20:50:26.276704600Z",
     "start_time": "2024-01-27T20:50:24.951263400Z"
    }
   },
   "outputs": [
    {
     "data": {
      "text/html": [
       "<div>\n",
       "<style scoped>\n",
       "    .dataframe tbody tr th:only-of-type {\n",
       "        vertical-align: middle;\n",
       "    }\n",
       "\n",
       "    .dataframe tbody tr th {\n",
       "        vertical-align: top;\n",
       "    }\n",
       "\n",
       "    .dataframe thead th {\n",
       "        text-align: right;\n",
       "    }\n",
       "</style>\n",
       "<table border=\"1\" class=\"dataframe\">\n",
       "  <thead>\n",
       "    <tr style=\"text-align: right;\">\n",
       "      <th></th>\n",
       "      <th>USMER</th>\n",
       "      <th>MEDICAL_UNIT</th>\n",
       "      <th>SEX</th>\n",
       "      <th>PATIENT_TYPE</th>\n",
       "      <th>DATE_DIED</th>\n",
       "      <th>INTUBED</th>\n",
       "      <th>PNEUMONIA</th>\n",
       "      <th>AGE</th>\n",
       "      <th>PREGNANT</th>\n",
       "      <th>DIABETES</th>\n",
       "      <th>...</th>\n",
       "      <th>ASTHMA</th>\n",
       "      <th>INMSUPR</th>\n",
       "      <th>HIPERTENSION</th>\n",
       "      <th>OTHER_DISEASE</th>\n",
       "      <th>CARDIOVASCULAR</th>\n",
       "      <th>OBESITY</th>\n",
       "      <th>RENAL_CHRONIC</th>\n",
       "      <th>TOBACCO</th>\n",
       "      <th>CLASSIFICATION_FINAL</th>\n",
       "      <th>ICU</th>\n",
       "    </tr>\n",
       "  </thead>\n",
       "  <tbody>\n",
       "    <tr>\n",
       "      <th>0</th>\n",
       "      <td>2</td>\n",
       "      <td>1</td>\n",
       "      <td>1</td>\n",
       "      <td>1</td>\n",
       "      <td>03/05/2020</td>\n",
       "      <td>97</td>\n",
       "      <td>1</td>\n",
       "      <td>65</td>\n",
       "      <td>2</td>\n",
       "      <td>2</td>\n",
       "      <td>...</td>\n",
       "      <td>2</td>\n",
       "      <td>2</td>\n",
       "      <td>1</td>\n",
       "      <td>2</td>\n",
       "      <td>2</td>\n",
       "      <td>2</td>\n",
       "      <td>2</td>\n",
       "      <td>2</td>\n",
       "      <td>3</td>\n",
       "      <td>97</td>\n",
       "    </tr>\n",
       "    <tr>\n",
       "      <th>1</th>\n",
       "      <td>2</td>\n",
       "      <td>1</td>\n",
       "      <td>2</td>\n",
       "      <td>1</td>\n",
       "      <td>03/06/2020</td>\n",
       "      <td>97</td>\n",
       "      <td>1</td>\n",
       "      <td>72</td>\n",
       "      <td>97</td>\n",
       "      <td>2</td>\n",
       "      <td>...</td>\n",
       "      <td>2</td>\n",
       "      <td>2</td>\n",
       "      <td>1</td>\n",
       "      <td>2</td>\n",
       "      <td>2</td>\n",
       "      <td>1</td>\n",
       "      <td>1</td>\n",
       "      <td>2</td>\n",
       "      <td>5</td>\n",
       "      <td>97</td>\n",
       "    </tr>\n",
       "    <tr>\n",
       "      <th>2</th>\n",
       "      <td>2</td>\n",
       "      <td>1</td>\n",
       "      <td>2</td>\n",
       "      <td>2</td>\n",
       "      <td>09/06/2020</td>\n",
       "      <td>1</td>\n",
       "      <td>2</td>\n",
       "      <td>55</td>\n",
       "      <td>97</td>\n",
       "      <td>1</td>\n",
       "      <td>...</td>\n",
       "      <td>2</td>\n",
       "      <td>2</td>\n",
       "      <td>2</td>\n",
       "      <td>2</td>\n",
       "      <td>2</td>\n",
       "      <td>2</td>\n",
       "      <td>2</td>\n",
       "      <td>2</td>\n",
       "      <td>3</td>\n",
       "      <td>2</td>\n",
       "    </tr>\n",
       "    <tr>\n",
       "      <th>3</th>\n",
       "      <td>2</td>\n",
       "      <td>1</td>\n",
       "      <td>1</td>\n",
       "      <td>1</td>\n",
       "      <td>12/06/2020</td>\n",
       "      <td>97</td>\n",
       "      <td>2</td>\n",
       "      <td>53</td>\n",
       "      <td>2</td>\n",
       "      <td>2</td>\n",
       "      <td>...</td>\n",
       "      <td>2</td>\n",
       "      <td>2</td>\n",
       "      <td>2</td>\n",
       "      <td>2</td>\n",
       "      <td>2</td>\n",
       "      <td>2</td>\n",
       "      <td>2</td>\n",
       "      <td>2</td>\n",
       "      <td>7</td>\n",
       "      <td>97</td>\n",
       "    </tr>\n",
       "    <tr>\n",
       "      <th>4</th>\n",
       "      <td>2</td>\n",
       "      <td>1</td>\n",
       "      <td>2</td>\n",
       "      <td>1</td>\n",
       "      <td>21/06/2020</td>\n",
       "      <td>97</td>\n",
       "      <td>2</td>\n",
       "      <td>68</td>\n",
       "      <td>97</td>\n",
       "      <td>1</td>\n",
       "      <td>...</td>\n",
       "      <td>2</td>\n",
       "      <td>2</td>\n",
       "      <td>1</td>\n",
       "      <td>2</td>\n",
       "      <td>2</td>\n",
       "      <td>2</td>\n",
       "      <td>2</td>\n",
       "      <td>2</td>\n",
       "      <td>3</td>\n",
       "      <td>97</td>\n",
       "    </tr>\n",
       "  </tbody>\n",
       "</table>\n",
       "<p>5 rows × 21 columns</p>\n",
       "</div>"
      ],
      "text/plain": [
       "   USMER  MEDICAL_UNIT  SEX  PATIENT_TYPE   DATE_DIED  INTUBED  PNEUMONIA  \\\n",
       "0      2             1    1             1  03/05/2020       97          1   \n",
       "1      2             1    2             1  03/06/2020       97          1   \n",
       "2      2             1    2             2  09/06/2020        1          2   \n",
       "3      2             1    1             1  12/06/2020       97          2   \n",
       "4      2             1    2             1  21/06/2020       97          2   \n",
       "\n",
       "   AGE  PREGNANT  DIABETES  ...  ASTHMA  INMSUPR  HIPERTENSION  OTHER_DISEASE  \\\n",
       "0   65         2         2  ...       2        2             1              2   \n",
       "1   72        97         2  ...       2        2             1              2   \n",
       "2   55        97         1  ...       2        2             2              2   \n",
       "3   53         2         2  ...       2        2             2              2   \n",
       "4   68        97         1  ...       2        2             1              2   \n",
       "\n",
       "   CARDIOVASCULAR  OBESITY  RENAL_CHRONIC  TOBACCO  CLASSIFICATION_FINAL  ICU  \n",
       "0               2        2              2        2                     3   97  \n",
       "1               2        1              1        2                     5   97  \n",
       "2               2        2              2        2                     3    2  \n",
       "3               2        2              2        2                     7   97  \n",
       "4               2        2              2        2                     3   97  \n",
       "\n",
       "[5 rows x 21 columns]"
      ]
     },
     "execution_count": 2,
     "metadata": {},
     "output_type": "execute_result"
    }
   ],
   "source": [
    "data_path = os.path.join('../data/', 'Covid Data.csv')\n",
    "data = pd.read_csv(data_path)\n",
    "data = data.rename(columns = {'CLASIFFICATION_FINAL': 'CLASSIFICATION_FINAL'})\n",
    "data.head()"
   ]
  },
  {
   "cell_type": "markdown",
   "metadata": {},
   "source": [
    "### Split and Scaling"
   ]
  },
  {
   "cell_type": "code",
   "execution_count": 3,
   "metadata": {
    "ExecuteTime": {
     "end_time": "2024-01-27T20:50:27.132074Z",
     "start_time": "2024-01-27T20:50:26.273681700Z"
    }
   },
   "outputs": [],
   "source": [
    "random_state = 0\n",
    "label = 'DIED'\n",
    "data.loc[data['DATE_DIED'] == '9999-99-99', label] = 2\n",
    "data.loc[data['DATE_DIED'] != '9999-99-99', label] = 1\n",
    "data.drop(columns = ['DATE_DIED'], inplace = True)\n",
    "features = list(set(data.columns).difference({label}))\n",
    "X = data[features]\n",
    "y = data[label]\n",
    "X_train, X_test, y_train, y_test = train_test_split(X, y, test_size = 0.2, random_state = random_state)"
   ]
  },
  {
   "cell_type": "markdown",
   "metadata": {},
   "source": [
    "### Preprocessing"
   ]
  },
  {
   "cell_type": "code",
   "execution_count": 4,
   "metadata": {
    "ExecuteTime": {
     "end_time": "2024-01-27T20:50:38.139404Z",
     "start_time": "2024-01-27T20:50:27.132074Z"
    }
   },
   "outputs": [],
   "source": [
    "X_train, X_test, y_train, y_test = preprocessing_pipeline(X_train, X_test, y_train, y_test)"
   ]
  },
  {
   "cell_type": "code",
   "execution_count": 5,
   "metadata": {
    "ExecuteTime": {
     "end_time": "2024-01-27T20:50:38.166242100Z",
     "start_time": "2024-01-27T20:50:38.142392400Z"
    }
   },
   "outputs": [
    {
     "data": {
      "text/html": [
       "<div>\n",
       "<style scoped>\n",
       "    .dataframe tbody tr th:only-of-type {\n",
       "        vertical-align: middle;\n",
       "    }\n",
       "\n",
       "    .dataframe tbody tr th {\n",
       "        vertical-align: top;\n",
       "    }\n",
       "\n",
       "    .dataframe thead th {\n",
       "        text-align: right;\n",
       "    }\n",
       "</style>\n",
       "<table border=\"1\" class=\"dataframe\">\n",
       "  <thead>\n",
       "    <tr style=\"text-align: right;\">\n",
       "      <th></th>\n",
       "      <th>OTHER_DISEASE</th>\n",
       "      <th>INMSUPR</th>\n",
       "      <th>ASTHMA</th>\n",
       "      <th>INTUBED</th>\n",
       "      <th>ICU</th>\n",
       "      <th>SEX</th>\n",
       "      <th>RENAL_CHRONIC</th>\n",
       "      <th>PATIENT_TYPE</th>\n",
       "      <th>COPD</th>\n",
       "      <th>TOBACCO</th>\n",
       "      <th>...</th>\n",
       "      <th>is_INMSUPR_defined</th>\n",
       "      <th>is_HIPERTENSION_defined</th>\n",
       "      <th>is_CARDIOVASCULAR_defined</th>\n",
       "      <th>is_RENAL_CHRONIC_defined</th>\n",
       "      <th>is_OTHER_DISEASE_defined</th>\n",
       "      <th>is_OBESITY_defined</th>\n",
       "      <th>is_TOBACCO_defined</th>\n",
       "      <th>is_INTUBED_defined</th>\n",
       "      <th>is_ICU_defined</th>\n",
       "      <th>covid_degree</th>\n",
       "    </tr>\n",
       "  </thead>\n",
       "  <tbody>\n",
       "    <tr>\n",
       "      <th>592908</th>\n",
       "      <td>1.0</td>\n",
       "      <td>1.0</td>\n",
       "      <td>1.0</td>\n",
       "      <td>1.0</td>\n",
       "      <td>1.0</td>\n",
       "      <td>1.0</td>\n",
       "      <td>1.0</td>\n",
       "      <td>0.0</td>\n",
       "      <td>1.0</td>\n",
       "      <td>1.0</td>\n",
       "      <td>...</td>\n",
       "      <td>0.0</td>\n",
       "      <td>0.0</td>\n",
       "      <td>0.0</td>\n",
       "      <td>0.0</td>\n",
       "      <td>0.0</td>\n",
       "      <td>0.0</td>\n",
       "      <td>0.0</td>\n",
       "      <td>1.0</td>\n",
       "      <td>1.0</td>\n",
       "      <td>1.0</td>\n",
       "    </tr>\n",
       "    <tr>\n",
       "      <th>184386</th>\n",
       "      <td>1.0</td>\n",
       "      <td>1.0</td>\n",
       "      <td>1.0</td>\n",
       "      <td>1.0</td>\n",
       "      <td>1.0</td>\n",
       "      <td>1.0</td>\n",
       "      <td>1.0</td>\n",
       "      <td>0.0</td>\n",
       "      <td>1.0</td>\n",
       "      <td>1.0</td>\n",
       "      <td>...</td>\n",
       "      <td>0.0</td>\n",
       "      <td>0.0</td>\n",
       "      <td>0.0</td>\n",
       "      <td>0.0</td>\n",
       "      <td>0.0</td>\n",
       "      <td>0.0</td>\n",
       "      <td>0.0</td>\n",
       "      <td>1.0</td>\n",
       "      <td>1.0</td>\n",
       "      <td>0.0</td>\n",
       "    </tr>\n",
       "    <tr>\n",
       "      <th>1021782</th>\n",
       "      <td>1.0</td>\n",
       "      <td>1.0</td>\n",
       "      <td>1.0</td>\n",
       "      <td>1.0</td>\n",
       "      <td>1.0</td>\n",
       "      <td>1.0</td>\n",
       "      <td>1.0</td>\n",
       "      <td>0.0</td>\n",
       "      <td>1.0</td>\n",
       "      <td>1.0</td>\n",
       "      <td>...</td>\n",
       "      <td>0.0</td>\n",
       "      <td>0.0</td>\n",
       "      <td>0.0</td>\n",
       "      <td>0.0</td>\n",
       "      <td>0.0</td>\n",
       "      <td>0.0</td>\n",
       "      <td>0.0</td>\n",
       "      <td>1.0</td>\n",
       "      <td>1.0</td>\n",
       "      <td>0.0</td>\n",
       "    </tr>\n",
       "    <tr>\n",
       "      <th>59606</th>\n",
       "      <td>1.0</td>\n",
       "      <td>1.0</td>\n",
       "      <td>1.0</td>\n",
       "      <td>1.0</td>\n",
       "      <td>1.0</td>\n",
       "      <td>0.0</td>\n",
       "      <td>1.0</td>\n",
       "      <td>0.0</td>\n",
       "      <td>1.0</td>\n",
       "      <td>0.0</td>\n",
       "      <td>...</td>\n",
       "      <td>0.0</td>\n",
       "      <td>0.0</td>\n",
       "      <td>0.0</td>\n",
       "      <td>0.0</td>\n",
       "      <td>0.0</td>\n",
       "      <td>0.0</td>\n",
       "      <td>0.0</td>\n",
       "      <td>1.0</td>\n",
       "      <td>1.0</td>\n",
       "      <td>1.0</td>\n",
       "    </tr>\n",
       "    <tr>\n",
       "      <th>93792</th>\n",
       "      <td>1.0</td>\n",
       "      <td>1.0</td>\n",
       "      <td>1.0</td>\n",
       "      <td>0.5</td>\n",
       "      <td>0.5</td>\n",
       "      <td>0.0</td>\n",
       "      <td>1.0</td>\n",
       "      <td>1.0</td>\n",
       "      <td>1.0</td>\n",
       "      <td>1.0</td>\n",
       "      <td>...</td>\n",
       "      <td>0.0</td>\n",
       "      <td>0.0</td>\n",
       "      <td>0.0</td>\n",
       "      <td>0.0</td>\n",
       "      <td>0.0</td>\n",
       "      <td>0.0</td>\n",
       "      <td>0.0</td>\n",
       "      <td>0.0</td>\n",
       "      <td>0.0</td>\n",
       "      <td>1.0</td>\n",
       "    </tr>\n",
       "  </tbody>\n",
       "</table>\n",
       "<p>5 rows × 34 columns</p>\n",
       "</div>"
      ],
      "text/plain": [
       "         OTHER_DISEASE  INMSUPR  ASTHMA  INTUBED  ICU  SEX  RENAL_CHRONIC  \\\n",
       "592908             1.0      1.0     1.0      1.0  1.0  1.0            1.0   \n",
       "184386             1.0      1.0     1.0      1.0  1.0  1.0            1.0   \n",
       "1021782            1.0      1.0     1.0      1.0  1.0  1.0            1.0   \n",
       "59606              1.0      1.0     1.0      1.0  1.0  0.0            1.0   \n",
       "93792              1.0      1.0     1.0      0.5  0.5  0.0            1.0   \n",
       "\n",
       "         PATIENT_TYPE  COPD  TOBACCO  ...  is_INMSUPR_defined  \\\n",
       "592908            0.0   1.0      1.0  ...                 0.0   \n",
       "184386            0.0   1.0      1.0  ...                 0.0   \n",
       "1021782           0.0   1.0      1.0  ...                 0.0   \n",
       "59606             0.0   1.0      0.0  ...                 0.0   \n",
       "93792             1.0   1.0      1.0  ...                 0.0   \n",
       "\n",
       "         is_HIPERTENSION_defined  is_CARDIOVASCULAR_defined  \\\n",
       "592908                       0.0                        0.0   \n",
       "184386                       0.0                        0.0   \n",
       "1021782                      0.0                        0.0   \n",
       "59606                        0.0                        0.0   \n",
       "93792                        0.0                        0.0   \n",
       "\n",
       "         is_RENAL_CHRONIC_defined  is_OTHER_DISEASE_defined  \\\n",
       "592908                        0.0                       0.0   \n",
       "184386                        0.0                       0.0   \n",
       "1021782                       0.0                       0.0   \n",
       "59606                         0.0                       0.0   \n",
       "93792                         0.0                       0.0   \n",
       "\n",
       "         is_OBESITY_defined  is_TOBACCO_defined  is_INTUBED_defined  \\\n",
       "592908                  0.0                 0.0                 1.0   \n",
       "184386                  0.0                 0.0                 1.0   \n",
       "1021782                 0.0                 0.0                 1.0   \n",
       "59606                   0.0                 0.0                 1.0   \n",
       "93792                   0.0                 0.0                 0.0   \n",
       "\n",
       "         is_ICU_defined  covid_degree  \n",
       "592908              1.0           1.0  \n",
       "184386              1.0           0.0  \n",
       "1021782             1.0           0.0  \n",
       "59606               1.0           1.0  \n",
       "93792               0.0           1.0  \n",
       "\n",
       "[5 rows x 34 columns]"
      ]
     },
     "execution_count": 5,
     "metadata": {},
     "output_type": "execute_result"
    }
   ],
   "source": [
    "X_train.head()"
   ]
  },
  {
   "cell_type": "code",
   "execution_count": 6,
   "metadata": {
    "ExecuteTime": {
     "end_time": "2024-01-27T20:50:38.192547700Z",
     "start_time": "2024-01-27T20:50:38.166242100Z"
    }
   },
   "outputs": [
    {
     "data": {
      "text/plain": [
       "592908     0.0\n",
       "184386     0.0\n",
       "1021782    0.0\n",
       "59606      0.0\n",
       "93792      0.0\n",
       "Name: DIED, dtype: float64"
      ]
     },
     "execution_count": 6,
     "metadata": {},
     "output_type": "execute_result"
    }
   ],
   "source": [
    "y_train.head()"
   ]
  },
  {
   "cell_type": "markdown",
   "metadata": {},
   "source": [
    "### Defining Parameters"
   ]
  },
  {
   "cell_type": "code",
   "execution_count": 7,
   "metadata": {
    "ExecuteTime": {
     "end_time": "2024-01-27T20:50:38.219532700Z",
     "start_time": "2024-01-27T20:50:38.176864400Z"
    }
   },
   "outputs": [],
   "source": [
    "parameters = LogisticRegressionParameters()\n",
    "parameters.initial_weights = np.zeros(len(X_train.columns))\n",
    "parameters.epochs = 100\n",
    "parameters.batch_size = 1000000\n",
    "parameters.alpha = 0.5\n",
    "parameters.gamma_reg = 0.01"
   ]
  },
  {
   "cell_type": "code",
   "execution_count": 8,
   "metadata": {
    "ExecuteTime": {
     "end_time": "2024-01-27T20:50:38.221530700Z",
     "start_time": "2024-01-27T20:50:38.183121600Z"
    }
   },
   "outputs": [
    {
     "name": "stdout",
     "output_type": "stream",
     "text": [
      "alpha = 0.5\n",
      "batch_size = 1000000\n",
      "epochs = 100\n",
      "gamma_reg = 0.01\n",
      "initial_bias = 0\n",
      "initial_weights = [0. 0. 0. 0. 0. 0. 0. 0. 0. 0. 0. 0. 0. 0. 0. 0. 0. 0. 0. 0. 0. 0. 0. 0.\n",
      " 0. 0. 0. 0. 0. 0. 0. 0. 0. 0.]\n",
      "lambda_reg = 0.0\n",
      "random_state = 0\n",
      "\n"
     ]
    }
   ],
   "source": [
    "print(parameters)"
   ]
  },
  {
   "cell_type": "markdown",
   "metadata": {},
   "source": [
    "### Training a Model"
   ]
  },
  {
   "cell_type": "code",
   "execution_count": 9,
   "metadata": {
    "ExecuteTime": {
     "end_time": "2024-01-27T20:53:11.696274800Z",
     "start_time": "2024-01-27T20:50:38.191547900Z"
    }
   },
   "outputs": [],
   "source": [
    "model = LogisticRegressor(parameters)\n",
    "model.fit(X_train, y_train, False)"
   ]
  },
  {
   "cell_type": "code",
   "execution_count": 10,
   "metadata": {
    "ExecuteTime": {
     "end_time": "2024-01-27T20:53:12.112834600Z",
     "start_time": "2024-01-27T20:53:11.717391700Z"
    }
   },
   "outputs": [
    {
     "data": {
      "image/png": "[encoded data removed]",
      "text/plain": [
       "<Figure size 800x400 with 1 Axes>"
      ]
     },
     "metadata": {},
     "output_type": "display_data"
    }
   ],
   "source": [
    "plt.figure(figsize=(8, 4))\n",
    "plt.plot(model.get_train_loss())\n",
    "plt.title(\"Train Loss\")\n",
    "plt.xlabel(\"Epoch\")\n",
    "plt.ylabel(\"Loss\")\n",
    "plt.grid()"
   ]
  },
  {
   "cell_type": "markdown",
   "metadata": {},
   "source": [
    "### Test"
   ]
  },
  {
   "cell_type": "code",
   "execution_count": 11,
   "metadata": {
    "ExecuteTime": {
     "end_time": "2024-01-27T20:53:12.213119200Z",
     "start_time": "2024-01-27T20:53:12.112834600Z"
    }
   },
   "outputs": [
    {
     "data": {
      "text/plain": [
       "array([0.02523975, 0.02497748, 0.02568098, ..., 0.02581888, 0.02609691,\n",
       "       0.02525093])"
      ]
     },
     "execution_count": 11,
     "metadata": {},
     "output_type": "execute_result"
    }
   ],
   "source": [
    "model.predict(X_test)"
   ]
  },
  {
   "cell_type": "code",
   "execution_count": 12,
   "metadata": {
    "ExecuteTime": {
     "end_time": "2024-01-27T20:53:12.324137900Z",
     "start_time": "2024-01-27T20:53:12.215114500Z"
    }
   },
   "outputs": [
    {
     "data": {
      "text/plain": [
       "0.1611631322380691"
      ]
     },
     "execution_count": 12,
     "metadata": {},
     "output_type": "execute_result"
    }
   ],
   "source": [
    "log_loss(model, X_test, y_test)"
   ]
  },
  {
   "cell_type": "code",
   "execution_count": 13,
   "metadata": {
    "ExecuteTime": {
     "end_time": "2024-01-27T20:53:12.477295100Z",
     "start_time": "2024-01-27T20:53:12.322145100Z"
    },
    "collapsed": false
   },
   "outputs": [],
   "source": [
    "precisions, recalls, thresholds = precision_recall_curve(y_test, model.predict(X_test))"
   ]
  },
  {
   "cell_type": "code",
   "execution_count": 14,
   "metadata": {
    "ExecuteTime": {
     "end_time": "2024-01-27T20:53:12.485128100Z",
     "start_time": "2024-01-27T20:53:12.478287700Z"
    },
    "collapsed": false
   },
   "outputs": [],
   "source": [
    "def plot_precision_recall_vs_threshold(precisions_list, recalls_list, thresholds_list):\n",
    "    plt.plot(thresholds_list, precisions_list[:-1], \"b--\", label=\"Precision\")\n",
    "    plt.plot(thresholds_list, recalls_list[:-1], \"g-\", label=\"Recall\")\n",
    "    plt.xlabel(\"Threshold\")\n",
    "    plt.legend(loc=\"upper left\")\n",
    "    plt.ylim([0, 1])"
   ]
  },
  {
   "cell_type": "code",
   "execution_count": 15,
   "metadata": {
    "ExecuteTime": {
     "end_time": "2024-01-27T20:53:12.722779500Z",
     "start_time": "2024-01-27T20:53:12.486126100Z"
    },
    "collapsed": false
   },
   "outputs": [
    {
     "data": {
      "image/png": "[encoded data removed]",
      "text/plain": [
       "<Figure size 640x480 with 1 Axes>"
      ]
     },
     "metadata": {},
     "output_type": "display_data"
    }
   ],
   "source": [
    "plot_precision_recall_vs_threshold(precisions, recalls, thresholds)"
   ]
  },
  {
   "cell_type": "code",
   "execution_count": 16,
   "metadata": {
    "ExecuteTime": {
     "end_time": "2024-01-27T20:53:12.839815900Z",
     "start_time": "2024-01-27T20:53:12.724774300Z"
    }
   },
   "outputs": [
    {
     "name": "stdout",
     "output_type": "stream",
     "text": [
      "Prediction values count:\n"
     ]
    },
    {
     "data": {
      "text/plain": [
       "0    171084\n",
       "1     38631\n",
       "Name: count, dtype: int64"
      ]
     },
     "execution_count": 16,
     "metadata": {},
     "output_type": "execute_result"
    }
   ],
   "source": [
    "threshold = 0.15\n",
    "y_pred = model.predict(X_test) > threshold\n",
    "print('Prediction values count:')\n",
    "(pd.DataFrame(y_pred) > threshold).astype(int).value_counts()"
   ]
  },
  {
   "cell_type": "code",
   "execution_count": 17,
   "metadata": {
    "ExecuteTime": {
     "end_time": "2024-01-27T20:53:12.923816500Z",
     "start_time": "2024-01-27T20:53:12.840813900Z"
    },
    "collapsed": false
   },
   "outputs": [
    {
     "data": {
      "text/plain": [
       "0.3528772229556574"
      ]
     },
     "execution_count": 17,
     "metadata": {},
     "output_type": "execute_result"
    }
   ],
   "source": [
    "precision_score(y_test, y_pred)"
   ]
  },
  {
   "cell_type": "code",
   "execution_count": 18,
   "metadata": {
    "ExecuteTime": {
     "end_time": "2024-01-27T20:53:13.008690Z",
     "start_time": "2024-01-27T20:53:12.925811700Z"
    },
    "collapsed": false
   },
   "outputs": [
    {
     "data": {
      "text/plain": [
       "0.8852522891096825"
      ]
     },
     "execution_count": 18,
     "metadata": {},
     "output_type": "execute_result"
    }
   ],
   "source": [
    "recall_score(y_test, y_pred)"
   ]
  },
  {
   "cell_type": "markdown",
   "metadata": {},
   "source": [
    "#### Conclusion\n",
    "\n",
    "Despite the reduced number of iterations and the slower speed compared to already implemented Machine Learning libraries, we achieved a valid result. This demonstrates that our model does indeed work.\n",
    "\n",
    "We will not implement the metrics of the logistic regression model because they are relatively simple, and the goal was to implement such a model from scratch with the significant challenge of handling millions of data simultaneously in the prediction function at a speed that allows the model to be trained in a timely manner. The evaluation of metrics can be done using the sklearn library, as was done in notebook sklearn_logistic_regression.ipynb, which covers step-by-step feature engineering and a more practical application of the logistic regression model."
   ]
  }
 ],
 "metadata": {
  "kernelspec": {
   "display_name": "Python 3 (ipykernel)",
   "language": "python",
   "name": "python3"
  },
  "language_info": {
   "codemirror_mode": {
    "name": "ipython",
    "version": 3
   },
   "file_extension": ".py",
   "mimetype": "text/x-python",
   "name": "python",
   "nbconvert_exporter": "python",
   "pygments_lexer": "ipython3",
   "version": "3.11.4"
  }
 },
 "nbformat": 4,
 "nbformat_minor": 4
}
