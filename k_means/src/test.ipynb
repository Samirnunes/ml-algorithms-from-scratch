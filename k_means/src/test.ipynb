{
 "cells": [
  {
   "cell_type": "code",
   "execution_count": 42,
   "metadata": {},
   "outputs": [],
   "source": [
    "import numpy as np\n",
    "import pandas as pd\n",
    "from sklearn.preprocessing import StandardScaler"
   ]
  },
  {
   "cell_type": "code",
   "execution_count": 43,
   "metadata": {},
   "outputs": [],
   "source": [
    "df = pd.read_csv(\"../data/adm_data.csv\", index_col=[0])\n",
    "X = df.drop([\"Chance of Admit \"], axis=1)\n",
    "y = df[[\"Chance of Admit \"]]\n",
    "\n",
    "scaler = StandardScaler()\n",
    "X = pd.DataFrame(scaler.fit_transform(X), columns=X.columns, index=X.index)"
   ]
  },
  {
   "cell_type": "code",
   "execution_count": 49,
   "metadata": {},
   "outputs": [],
   "source": [
    "class KMeans:\n",
    "    def __init__(self, k, random_state=0):\n",
    "        self.__k = k\n",
    "        self.__random_state = random_state\n",
    "        self.centroids = None\n",
    "        self.clusters = None\n",
    "    \n",
    "    def fit(self, X: pd.DataFrame):\n",
    "        assert self.__k <= len(X)\n",
    "        rand = np.random.RandomState(self.__random_state)\n",
    "        centroids = X.loc[rand.choice(X.index, self.__k)].reset_index(drop=True).copy()\n",
    "        clusters = self.__assign_clusters(X, centroids)\n",
    "        while True:\n",
    "            new_centroids = self.__calculate_centroids(X, clusters)\n",
    "            new_clusters = self.__assign_clusters(X, new_centroids)\n",
    "            if new_centroids.equals(centroids):\n",
    "                self.centroids = new_centroids\n",
    "                self.clusters = new_clusters\n",
    "                return self\n",
    "            centroids = new_centroids\n",
    "            clusters = new_clusters\n",
    "    \n",
    "    def predict(self, X: pd.DataFrame):\n",
    "        pass\n",
    "    \n",
    "    def __assign_clusters(self, X: pd.DataFrame, centroids: pd.DataFrame):\n",
    "        clusters = pd.Series()\n",
    "        for i in X.index:\n",
    "            point = X.loc[[i]]\n",
    "            distance = lambda x: KMeans.euclidean_distance(point, x)\n",
    "            distances = centroids.apply(distance, axis=1)\n",
    "            cluster = distances.sort_values(ascending=True).index[0]\n",
    "            clusters[i] = cluster\n",
    "        return clusters\n",
    "\n",
    "    def __calculate_centroids(self, X: pd.DataFrame, clusters: pd.Series):\n",
    "       X_with_clusters = X.copy()\n",
    "       X_with_clusters[\"cluster\"] = clusters\n",
    "       centroids = X_with_clusters.groupby(by=\"cluster\").mean()\n",
    "       return centroids\n",
    "       \n",
    "    @staticmethod\n",
    "    def euclidean_distance(instance1: np.array, instance2: np.array):\n",
    "        return np.linalg.norm(instance1 - instance2)"
   ]
  },
  {
   "cell_type": "code",
   "execution_count": 50,
   "metadata": {},
   "outputs": [
    {
     "data": {
      "text/plain": [
       "<__main__.KMeans at 0x1e366a600d0>"
      ]
     },
     "execution_count": 50,
     "metadata": {},
     "output_type": "execute_result"
    }
   ],
   "source": [
    "kmeans = KMeans(k=5, random_state=0)\n",
    "kmeans.fit(X)"
   ]
  },
  {
   "cell_type": "code",
   "execution_count": 52,
   "metadata": {},
   "outputs": [
    {
     "data": {
      "text/html": [
       "<div>\n",
       "<style scoped>\n",
       "    .dataframe tbody tr th:only-of-type {\n",
       "        vertical-align: middle;\n",
       "    }\n",
       "\n",
       "    .dataframe tbody tr th {\n",
       "        vertical-align: top;\n",
       "    }\n",
       "\n",
       "    .dataframe thead th {\n",
       "        text-align: right;\n",
       "    }\n",
       "</style>\n",
       "<table border=\"1\" class=\"dataframe\">\n",
       "  <thead>\n",
       "    <tr style=\"text-align: right;\">\n",
       "      <th></th>\n",
       "      <th>GRE Score</th>\n",
       "      <th>TOEFL Score</th>\n",
       "      <th>University Rating</th>\n",
       "      <th>SOP</th>\n",
       "      <th>LOR</th>\n",
       "      <th>CGPA</th>\n",
       "      <th>Research</th>\n",
       "    </tr>\n",
       "    <tr>\n",
       "      <th>cluster</th>\n",
       "      <th></th>\n",
       "      <th></th>\n",
       "      <th></th>\n",
       "      <th></th>\n",
       "      <th></th>\n",
       "      <th></th>\n",
       "      <th></th>\n",
       "    </tr>\n",
       "  </thead>\n",
       "  <tbody>\n",
       "    <tr>\n",
       "      <th>0</th>\n",
       "      <td>0.126584</td>\n",
       "      <td>0.015734</td>\n",
       "      <td>-0.255451</td>\n",
       "      <td>-0.135797</td>\n",
       "      <td>-0.276590</td>\n",
       "      <td>-0.096772</td>\n",
       "      <td>0.909112</td>\n",
       "    </tr>\n",
       "    <tr>\n",
       "      <th>1</th>\n",
       "      <td>1.483143</td>\n",
       "      <td>1.511694</td>\n",
       "      <td>1.301124</td>\n",
       "      <td>1.110166</td>\n",
       "      <td>1.057709</td>\n",
       "      <td>1.489012</td>\n",
       "      <td>0.843240</td>\n",
       "    </tr>\n",
       "    <tr>\n",
       "      <th>2</th>\n",
       "      <td>-0.395486</td>\n",
       "      <td>-0.271316</td>\n",
       "      <td>-0.219527</td>\n",
       "      <td>-0.088280</td>\n",
       "      <td>-0.049408</td>\n",
       "      <td>-0.223155</td>\n",
       "      <td>-1.099975</td>\n",
       "    </tr>\n",
       "    <tr>\n",
       "      <th>3</th>\n",
       "      <td>0.482662</td>\n",
       "      <td>0.457712</td>\n",
       "      <td>0.920042</td>\n",
       "      <td>0.894980</td>\n",
       "      <td>0.918727</td>\n",
       "      <td>0.675496</td>\n",
       "      <td>0.630930</td>\n",
       "    </tr>\n",
       "    <tr>\n",
       "      <th>4</th>\n",
       "      <td>-1.142885</td>\n",
       "      <td>-1.166734</td>\n",
       "      <td>-1.131333</td>\n",
       "      <td>-1.260400</td>\n",
       "      <td>-1.128586</td>\n",
       "      <td>-1.251421</td>\n",
       "      <td>-0.833710</td>\n",
       "    </tr>\n",
       "  </tbody>\n",
       "</table>\n",
       "</div>"
      ],
      "text/plain": [
       "         GRE Score  TOEFL Score  University Rating       SOP      LOR   \\\n",
       "cluster                                                                  \n",
       "0         0.126584     0.015734          -0.255451 -0.135797 -0.276590   \n",
       "1         1.483143     1.511694           1.301124  1.110166  1.057709   \n",
       "2        -0.395486    -0.271316          -0.219527 -0.088280 -0.049408   \n",
       "3         0.482662     0.457712           0.920042  0.894980  0.918727   \n",
       "4        -1.142885    -1.166734          -1.131333 -1.260400 -1.128586   \n",
       "\n",
       "             CGPA  Research  \n",
       "cluster                      \n",
       "0       -0.096772  0.909112  \n",
       "1        1.489012  0.843240  \n",
       "2       -0.223155 -1.099975  \n",
       "3        0.675496  0.630930  \n",
       "4       -1.251421 -0.833710  "
      ]
     },
     "execution_count": 52,
     "metadata": {},
     "output_type": "execute_result"
    }
   ],
   "source": [
    "kmeans.centroids"
   ]
  },
  {
   "cell_type": "code",
   "execution_count": 55,
   "metadata": {},
   "outputs": [
    {
     "data": {
      "text/plain": [
       "1      1\n",
       "2      3\n",
       "3      0\n",
       "4      0\n",
       "5      4\n",
       "      ..\n",
       "396    0\n",
       "397    0\n",
       "398    1\n",
       "399    2\n",
       "400    1\n",
       "Length: 400, dtype: int64"
      ]
     },
     "execution_count": 55,
     "metadata": {},
     "output_type": "execute_result"
    }
   ],
   "source": [
    "kmeans.clusters"
   ]
  }
 ],
 "metadata": {
  "kernelspec": {
   "display_name": "data-science",
   "language": "python",
   "name": "python3"
  },
  "language_info": {
   "codemirror_mode": {
    "name": "ipython",
    "version": 3
   },
   "file_extension": ".py",
   "mimetype": "text/x-python",
   "name": "python",
   "nbconvert_exporter": "python",
   "pygments_lexer": "ipython3",
   "version": "3.11.4"
  }
 },
 "nbformat": 4,
 "nbformat_minor": 2
}
