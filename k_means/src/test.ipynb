{
 "cells": [
  {
   "cell_type": "code",
   "execution_count": 1,
   "metadata": {},
   "outputs": [],
   "source": [
    "import numpy as np\n",
    "import pandas as pd\n",
    "from sklearn.preprocessing import StandardScaler\n",
    "from sklearn.cluster import KMeans as SklearnKMeans\n",
    "from k_means import KMeans"
   ]
  },
  {
   "cell_type": "code",
   "execution_count": 2,
   "metadata": {},
   "outputs": [],
   "source": [
    "df = pd.read_csv(\"../data/adm_data.csv\", index_col=[0])\n",
    "X = df.drop([\"Chance of Admit \"], axis=1)\n",
    "y = df[[\"Chance of Admit \"]]\n",
    "\n",
    "scaler = StandardScaler()\n",
    "X = pd.DataFrame(scaler.fit_transform(X), columns=X.columns, index=X.index)"
   ]
  },
  {
   "cell_type": "code",
   "execution_count": 3,
   "metadata": {},
   "outputs": [
    {
     "data": {
      "text/plain": [
       "0     63\n",
       "1    102\n",
       "2     94\n",
       "3     47\n",
       "4     94\n",
       "Name: count, dtype: int64"
      ]
     },
     "execution_count": 3,
     "metadata": {},
     "output_type": "execute_result"
    }
   ],
   "source": [
    "kmeans = KMeans(k=5, max_iter=100, tol=1e-4, random_state=0)\n",
    "kmeans.fit(X)\n",
    "kmeans.clusters.value_counts().sort_index()"
   ]
  },
  {
   "cell_type": "code",
   "execution_count": 4,
   "metadata": {},
   "outputs": [
    {
     "data": {
      "text/html": [
       "<div>\n",
       "<style scoped>\n",
       "    .dataframe tbody tr th:only-of-type {\n",
       "        vertical-align: middle;\n",
       "    }\n",
       "\n",
       "    .dataframe tbody tr th {\n",
       "        vertical-align: top;\n",
       "    }\n",
       "\n",
       "    .dataframe thead th {\n",
       "        text-align: right;\n",
       "    }\n",
       "</style>\n",
       "<table border=\"1\" class=\"dataframe\">\n",
       "  <thead>\n",
       "    <tr style=\"text-align: right;\">\n",
       "      <th></th>\n",
       "      <th>GRE Score</th>\n",
       "      <th>TOEFL Score</th>\n",
       "      <th>University Rating</th>\n",
       "      <th>SOP</th>\n",
       "      <th>LOR</th>\n",
       "      <th>CGPA</th>\n",
       "      <th>Research</th>\n",
       "    </tr>\n",
       "    <tr>\n",
       "      <th>cluster</th>\n",
       "      <th></th>\n",
       "      <th></th>\n",
       "      <th></th>\n",
       "      <th></th>\n",
       "      <th></th>\n",
       "      <th></th>\n",
       "      <th></th>\n",
       "    </tr>\n",
       "  </thead>\n",
       "  <tbody>\n",
       "    <tr>\n",
       "      <th>0</th>\n",
       "      <td>-0.224220</td>\n",
       "      <td>0.060670</td>\n",
       "      <td>0.117940</td>\n",
       "      <td>0.359886</td>\n",
       "      <td>0.300575</td>\n",
       "      <td>0.056175</td>\n",
       "      <td>-1.099975</td>\n",
       "    </tr>\n",
       "    <tr>\n",
       "      <th>1</th>\n",
       "      <td>0.268328</td>\n",
       "      <td>0.174959</td>\n",
       "      <td>0.034974</td>\n",
       "      <td>0.109191</td>\n",
       "      <td>0.020157</td>\n",
       "      <td>0.111273</td>\n",
       "      <td>0.909112</td>\n",
       "    </tr>\n",
       "    <tr>\n",
       "      <th>2</th>\n",
       "      <td>1.217162</td>\n",
       "      <td>1.188900</td>\n",
       "      <td>1.227230</td>\n",
       "      <td>1.109733</td>\n",
       "      <td>1.036914</td>\n",
       "      <td>1.276283</td>\n",
       "      <td>0.844992</td>\n",
       "    </tr>\n",
       "    <tr>\n",
       "      <th>3</th>\n",
       "      <td>-1.446289</td>\n",
       "      <td>-1.432977</td>\n",
       "      <td>-1.268673</td>\n",
       "      <td>-1.476822</td>\n",
       "      <td>-1.428965</td>\n",
       "      <td>-1.555434</td>\n",
       "      <td>-0.886242</td>\n",
       "    </tr>\n",
       "    <tr>\n",
       "      <th>4</th>\n",
       "      <td>-0.634907</td>\n",
       "      <td>-0.702923</td>\n",
       "      <td>-0.709889</td>\n",
       "      <td>-0.731006</td>\n",
       "      <td>-0.545754</td>\n",
       "      <td>-0.656958</td>\n",
       "      <td>-0.651136</td>\n",
       "    </tr>\n",
       "  </tbody>\n",
       "</table>\n",
       "</div>"
      ],
      "text/plain": [
       "         GRE Score  TOEFL Score  University Rating       SOP      LOR   \\\n",
       "cluster                                                                  \n",
       "0        -0.224220     0.060670           0.117940  0.359886  0.300575   \n",
       "1         0.268328     0.174959           0.034974  0.109191  0.020157   \n",
       "2         1.217162     1.188900           1.227230  1.109733  1.036914   \n",
       "3        -1.446289    -1.432977          -1.268673 -1.476822 -1.428965   \n",
       "4        -0.634907    -0.702923          -0.709889 -0.731006 -0.545754   \n",
       "\n",
       "             CGPA  Research  \n",
       "cluster                      \n",
       "0        0.056175 -1.099975  \n",
       "1        0.111273  0.909112  \n",
       "2        1.276283  0.844992  \n",
       "3       -1.555434 -0.886242  \n",
       "4       -0.656958 -0.651136  "
      ]
     },
     "execution_count": 4,
     "metadata": {},
     "output_type": "execute_result"
    }
   ],
   "source": [
    "kmeans.centroids"
   ]
  },
  {
   "cell_type": "code",
   "execution_count": 5,
   "metadata": {},
   "outputs": [
    {
     "data": {
      "text/plain": [
       "0     66\n",
       "1     94\n",
       "2     91\n",
       "3    102\n",
       "4     47\n",
       "Name: count, dtype: int64"
      ]
     },
     "execution_count": 5,
     "metadata": {},
     "output_type": "execute_result"
    }
   ],
   "source": [
    "sk = SklearnKMeans(n_clusters=5, random_state=0, init=\"random\", n_init=1, max_iter=100, tol=1e-4)\n",
    "sk.fit(X)\n",
    "pd.Series(sk.labels_).value_counts().sort_index()"
   ]
  },
  {
   "cell_type": "code",
   "execution_count": 6,
   "metadata": {},
   "outputs": [
    {
     "data": {
      "text/plain": [
       "array([[-0.26350846,  0.01734623,  0.09583291,  0.38571521,  0.28087636,\n",
       "        -0.00328307, -1.09997489],\n",
       "       [ 1.21716205,  1.18890034,  1.22722987,  1.10973266,  1.03691407,\n",
       "         1.27628319,  0.84499188],\n",
       "       [-0.61995116, -0.69667454, -0.72114636, -0.78570267, -0.55936753,\n",
       "        -0.63734499, -0.63633953],\n",
       "       [ 0.26832828,  0.17495907,  0.03497423,  0.10919144,  0.02015731,\n",
       "         0.11127314,  0.90911166],\n",
       "       [-1.44628944, -1.43297712, -1.26867303, -1.47682249, -1.42896515,\n",
       "        -1.5554341 , -0.88624227]])"
      ]
     },
     "execution_count": 6,
     "metadata": {},
     "output_type": "execute_result"
    }
   ],
   "source": [
    "sk.cluster_centers_"
   ]
  }
 ],
 "metadata": {
  "kernelspec": {
   "display_name": "data-science",
   "language": "python",
   "name": "python3"
  },
  "language_info": {
   "codemirror_mode": {
    "name": "ipython",
    "version": 3
   },
   "file_extension": ".py",
   "mimetype": "text/x-python",
   "name": "python",
   "nbconvert_exporter": "python",
   "pygments_lexer": "ipython3",
   "version": "3.11.4"
  }
 },
 "nbformat": 4,
 "nbformat_minor": 2
}
