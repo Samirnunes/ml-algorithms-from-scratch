{
 "cells": [
  {
   "cell_type": "code",
   "execution_count": 1,
   "metadata": {},
   "outputs": [],
   "source": [
    "import numpy as np\n",
    "import pandas as pd\n",
    "from sklearn.model_selection import train_test_split\n",
    "from sklearn.metrics import accuracy_score, precision_score, recall_score, mean_squared_error\n",
    "from sklearn.preprocessing import StandardScaler\n",
    "from sklearn.neighbors import KNeighborsClassifier, KNeighborsRegressor\n",
    "from k_nearest_neighbors import KNearestNeighborsClassifier, KNearestNeighborsRegressor"
   ]
  },
  {
   "cell_type": "markdown",
   "metadata": {},
   "source": [
    "### Classifier"
   ]
  },
  {
   "cell_type": "code",
   "execution_count": 2,
   "metadata": {},
   "outputs": [],
   "source": [
    "df = pd.read_csv(\"../data/churn_data.csv\", index_col=[0])\n",
    "X = df.drop([\"Exited\"], axis=1)\n",
    "y = df[[\"Exited\"]]\n",
    "X_train, X_test, y_train, y_test = train_test_split(\n",
    "    X, y, test_size=0.33, random_state=42)\n",
    "\n",
    "scaler = StandardScaler()\n",
    "X_train = pd.DataFrame(scaler.fit_transform(X_train), columns=X_train.columns, index=X_train.index)\n",
    "X_test = pd.DataFrame(scaler.transform(X_test), columns=X_test.columns, index=X_test.index)\n",
    "reduced_X_test = X_test.iloc[0:200].copy()\n",
    "reduced_y_test = y_test.iloc[0:200].copy()"
   ]
  },
  {
   "cell_type": "code",
   "execution_count": 3,
   "metadata": {},
   "outputs": [
    {
     "name": "stdout",
     "output_type": "stream",
     "text": [
      "Accuracy: 0.775\n",
      "Precision: 0.765\n",
      "Recall: 0.788\n"
     ]
    }
   ],
   "source": [
    "knn = KNearestNeighborsClassifier(k=5)\n",
    "knn.fit(X_train, y_train)\n",
    "y_pred = knn.predict(reduced_X_test)\n",
    "\n",
    "print(f\"Accuracy: {round(accuracy_score(reduced_y_test, y_pred), 3)}\")\n",
    "print(f\"Precision: {round(precision_score(reduced_y_test, y_pred), 3)}\")\n",
    "print(f\"Recall: {round(recall_score(reduced_y_test, y_pred), 3)}\")"
   ]
  },
  {
   "cell_type": "code",
   "execution_count": 4,
   "metadata": {},
   "outputs": [
    {
     "name": "stderr",
     "output_type": "stream",
     "text": [
      "c:\\Users\\Samsung\\anaconda3\\envs\\data-science\\Lib\\site-packages\\sklearn\\neighbors\\_classification.py:238: DataConversionWarning: A column-vector y was passed when a 1d array was expected. Please change the shape of y to (n_samples,), for example using ravel().\n",
      "  return self._fit(X, y)\n"
     ]
    },
    {
     "name": "stdout",
     "output_type": "stream",
     "text": [
      "Accuracy: 0.79\n",
      "Precision: 0.782\n",
      "Recall: 0.798\n"
     ]
    }
   ],
   "source": [
    "sk = KNeighborsClassifier(n_neighbors=5, metric=\"minkowski\", p=2, algorithm=\"brute\")\n",
    "sk.fit(X_train, y_train)\n",
    "y_sk = sk.predict(reduced_X_test)\n",
    "\n",
    "print(f\"Accuracy: {round(accuracy_score(reduced_y_test, y_sk), 3)}\")\n",
    "print(f\"Precision: {round(precision_score(reduced_y_test, y_sk), 3)}\")\n",
    "print(f\"Recall: {round(recall_score(reduced_y_test, y_sk), 3)}\")"
   ]
  },
  {
   "cell_type": "markdown",
   "metadata": {},
   "source": [
    "### Regressor"
   ]
  },
  {
   "cell_type": "code",
   "execution_count": 5,
   "metadata": {},
   "outputs": [],
   "source": [
    "df = pd.read_csv(\"../data/adm_data.csv\", index_col=[0])\n",
    "X = df.drop([\"Chance of Admit \"], axis=1)\n",
    "y = df[[\"Chance of Admit \"]]\n",
    "X_train, X_test, y_train, y_test = train_test_split(\n",
    "    X, y, test_size=0.33, random_state=42)\n",
    "\n",
    "scaler = StandardScaler()\n",
    "X_train = pd.DataFrame(scaler.fit_transform(X_train), columns=X_train.columns, index=X_train.index)\n",
    "X_test = pd.DataFrame(scaler.transform(X_test), columns=X_test.columns, index=X_test.index)"
   ]
  },
  {
   "cell_type": "code",
   "execution_count": 6,
   "metadata": {},
   "outputs": [
    {
     "name": "stdout",
     "output_type": "stream",
     "text": [
      "Mean Squared Error: 0.005638030303030301\n"
     ]
    }
   ],
   "source": [
    "knn = KNearestNeighborsRegressor(k=5)\n",
    "knn.fit(X_train, y_train)\n",
    "y_pred = knn.predict(X_test)\n",
    "print(f\"Mean Squared Error: {mean_squared_error(y_test, y_pred)}\")"
   ]
  },
  {
   "cell_type": "code",
   "execution_count": 7,
   "metadata": {},
   "outputs": [
    {
     "name": "stdout",
     "output_type": "stream",
     "text": [
      "Mean Squared Error: 0.005638030303030301\n"
     ]
    }
   ],
   "source": [
    "sk = KNeighborsRegressor(n_neighbors=5, metric=\"minkowski\", p=2, algorithm=\"brute\")\n",
    "sk.fit(X_train, y_train)\n",
    "y_sk = sk.predict(X_test)\n",
    "print(f\"Mean Squared Error: {mean_squared_error(y_test, y_sk)}\")"
   ]
  }
 ],
 "metadata": {
  "kernelspec": {
   "display_name": "data-science",
   "language": "python",
   "name": "python3"
  },
  "language_info": {
   "codemirror_mode": {
    "name": "ipython",
    "version": 3
   },
   "file_extension": ".py",
   "mimetype": "text/x-python",
   "name": "python",
   "nbconvert_exporter": "python",
   "pygments_lexer": "ipython3",
   "version": "3.11.4"
  }
 },
 "nbformat": 4,
 "nbformat_minor": 2
}
