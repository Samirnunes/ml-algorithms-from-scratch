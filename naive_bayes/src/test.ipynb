{
 "cells": [
  {
   "cell_type": "code",
   "execution_count": 1,
   "metadata": {},
   "outputs": [],
   "source": [
    "import numpy as np\n",
    "import pandas as pd\n",
    "from sklearn.model_selection import train_test_split\n",
    "from sklearn.naive_bayes import GaussianNB\n",
    "from gaussian_naive_bayes import GaussianNaiveBayes"
   ]
  },
  {
   "cell_type": "code",
   "execution_count": 2,
   "metadata": {},
   "outputs": [],
   "source": [
    "df = pd.read_csv(\"../data/churn_data.csv\", index_col=[0])\n",
    "X = df.drop([\"Exited\"], axis=1)\n",
    "y = df[[\"Exited\"]]\n",
    "X_train, X_test, y_train, y_test = train_test_split(\n",
    "    X, y, test_size=0.33, random_state=42)"
   ]
  },
  {
   "cell_type": "code",
   "execution_count": 3,
   "metadata": {},
   "outputs": [],
   "source": [
    "gnb = GaussianNaiveBayes()\n",
    "gnb.fit(X_train, y_train)\n",
    "y_pred = gnb.predict_proba(X_test)"
   ]
  },
  {
   "cell_type": "code",
   "execution_count": 4,
   "metadata": {},
   "outputs": [
    {
     "data": {
      "text/plain": [
       "array([{0: 0.03781059320108735, 1: 0.9621894067989127},\n",
       "       {0: 0.594013866200706, 1: 0.4059861337992941},\n",
       "       {0: 0.26492395583846373, 1: 0.7350760441615364}, ...,\n",
       "       {0: 0.31142618901793645, 1: 0.6885738109820635},\n",
       "       {0: 0.9560189612189072, 1: 0.04398103878109293},\n",
       "       {0: 0.18235526341601044, 1: 0.8176447365839896}], dtype=object)"
      ]
     },
     "execution_count": 4,
     "metadata": {},
     "output_type": "execute_result"
    }
   ],
   "source": [
    "y_pred"
   ]
  },
  {
   "cell_type": "code",
   "execution_count": 5,
   "metadata": {},
   "outputs": [
    {
     "name": "stderr",
     "output_type": "stream",
     "text": [
      "c:\\Users\\Samsung\\anaconda3\\envs\\data-science\\Lib\\site-packages\\sklearn\\utils\\validation.py:1310: DataConversionWarning: A column-vector y was passed when a 1d array was expected. Please change the shape of y to (n_samples, ), for example using ravel().\n",
      "  y = column_or_1d(y, warn=True)\n"
     ]
    }
   ],
   "source": [
    "sk = GaussianNB(var_smoothing=0)\n",
    "sk.fit(X_train, y_train)\n",
    "y_sk = sk.predict_proba(X_test)"
   ]
  },
  {
   "cell_type": "code",
   "execution_count": 6,
   "metadata": {},
   "outputs": [
    {
     "data": {
      "text/plain": [
       "array([[0.03774113, 0.96225887],\n",
       "       [0.59406807, 0.40593193],\n",
       "       [0.26480651, 0.73519349],\n",
       "       ...,\n",
       "       [0.31133854, 0.68866146],\n",
       "       [0.95609752, 0.04390248],\n",
       "       [0.18222931, 0.81777069]])"
      ]
     },
     "execution_count": 6,
     "metadata": {},
     "output_type": "execute_result"
    }
   ],
   "source": [
    "y_sk"
   ]
  }
 ],
 "metadata": {
  "kernelspec": {
   "display_name": "data-science",
   "language": "python",
   "name": "python3"
  },
  "language_info": {
   "codemirror_mode": {
    "name": "ipython",
    "version": 3
   },
   "file_extension": ".py",
   "mimetype": "text/x-python",
   "name": "python",
   "nbconvert_exporter": "python",
   "pygments_lexer": "ipython3",
   "version": "3.11.4"
  }
 },
 "nbformat": 4,
 "nbformat_minor": 2
}
