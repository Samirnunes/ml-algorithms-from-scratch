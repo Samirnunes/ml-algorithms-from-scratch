{
 "cells": [
  {
   "cell_type": "code",
   "execution_count": 278,
   "metadata": {},
   "outputs": [],
   "source": [
    "import numpy as np\n",
    "import pandas as pd\n",
    "from sklearn.metrics import accuracy_score, precision_score, recall_score\n",
    "from sklearn.model_selection import train_test_split\n",
    "from sklearn.naive_bayes import GaussianNB"
   ]
  },
  {
   "cell_type": "code",
   "execution_count": 185,
   "metadata": {},
   "outputs": [],
   "source": [
    "df = pd.read_csv(\"../data/churn_data.csv\", index_col=[0])\n",
    "X = df.drop([\"Exited\"], axis=1)\n",
    "y = df[[\"Exited\"]]"
   ]
  },
  {
   "cell_type": "code",
   "execution_count": 304,
   "metadata": {},
   "outputs": [],
   "source": [
    "class GaussianNaiveBayes:\n",
    "    def __init__(self):\n",
    "        self.__means = None\n",
    "        self.__stds = None\n",
    "        self.__class_priors = None\n",
    "        self.__target = None\n",
    "        self.__features = None\n",
    "        self.__fitted = False\n",
    "    \n",
    "    def fit(self, X: pd.DataFrame, y: pd.DataFrame):\n",
    "        self.__target = y.columns[0]\n",
    "        self.__features = list(X.columns)\n",
    "        data = pd.concat([X, y], axis=1)\n",
    "        grouped = data.groupby(by=self.__target)\n",
    "        self.__means = grouped.mean()\n",
    "        self.__stds = grouped.std()\n",
    "        self.__class_priors = grouped.size()/len(data)\n",
    "        self.__classes = list(self.__class_priors.index)\n",
    "        self.__fitted = True\n",
    "        return self\n",
    "            \n",
    "    def predict(self, X: pd.DataFrame):\n",
    "        def maximum_a_posteriori(posterior_dict):\n",
    "            return max(posterior_dict, key=posterior_dict.get) # argmax for dict\n",
    "        \n",
    "        assert self.__fitted == True\n",
    "        assert list(X.columns) == self.__features\n",
    "        \n",
    "        return np.array(list(map(maximum_a_posteriori, self.__posteriors(X))))\n",
    "    \n",
    "    def predict_proba(self, X: pd.DataFrame):\n",
    "        def likelihood_to_probability(posterior_dict):\n",
    "            posteriors_sum = sum(posterior_dict.values())\n",
    "            for key, val in posterior_dict.items():\n",
    "                posterior_dict[key] = val/posteriors_sum\n",
    "            return posterior_dict\n",
    "            \n",
    "        assert self.__fitted == True\n",
    "        assert list(X.columns) == self.__features\n",
    "        \n",
    "        return np.array(list(map(likelihood_to_probability, self.__posteriors(X))))\n",
    "    \n",
    "    def __posteriors(self, X: pd.DataFrame):\n",
    "        posteriors_by_class = {}\n",
    "        posteriors_by_row = []\n",
    "        for c in self.__classes:\n",
    "            posteriors_by_class[c] = self.__posterior(c, X)\n",
    "        for i in range(len(X)):\n",
    "            posteriors_by_row.append({key: array[i] for key, array in posteriors_by_class.items()})\n",
    "        return posteriors_by_row\n",
    "    \n",
    "    def __posterior(self, c: int, X: pd.DataFrame):\n",
    "        posterior = np.full((len(X),), self.__class_priors[c])\n",
    "        for feature in X.columns:\n",
    "            mean = self.__means[feature][c]\n",
    "            std = self.__stds[feature][c]\n",
    "            gaussian = lambda x: GaussianNaiveBayes.gaussian_pdf(x, mean, std)\n",
    "            posterior = posterior * np.array(X[feature].apply(gaussian))\n",
    "        return posterior\n",
    "        \n",
    "    @staticmethod\n",
    "    def gaussian_pdf(x, mu, sigma):\n",
    "        return (1/np.sqrt(2*np.pi*sigma**2))*np.exp((-(x-mu)**2)/(2*sigma**2))"
   ]
  },
  {
   "cell_type": "code",
   "execution_count": 305,
   "metadata": {},
   "outputs": [],
   "source": [
    "X_train, X_test, y_train, y_test = train_test_split(\n",
    "    X, y, test_size=0.33, random_state=42)"
   ]
  },
  {
   "cell_type": "code",
   "execution_count": 310,
   "metadata": {},
   "outputs": [],
   "source": [
    "gnb = GaussianNaiveBayes()\n",
    "gnb.fit(X_train, y_train)\n",
    "y_pred = gnb.predict(X_test)"
   ]
  },
  {
   "cell_type": "code",
   "execution_count": 312,
   "metadata": {},
   "outputs": [
    {
     "name": "stderr",
     "output_type": "stream",
     "text": [
      "c:\\Users\\Samsung\\anaconda3\\envs\\data-science\\Lib\\site-packages\\sklearn\\utils\\validation.py:1310: DataConversionWarning: A column-vector y was passed when a 1d array was expected. Please change the shape of y to (n_samples, ), for example using ravel().\n",
      "  y = column_or_1d(y, warn=True)\n"
     ]
    }
   ],
   "source": [
    "sk = GaussianNB(var_smoothing=0)\n",
    "sk.fit(X_train, y_train)\n",
    "y_sk = sk.predict(X_test)"
   ]
  }
 ],
 "metadata": {
  "kernelspec": {
   "display_name": "data-science",
   "language": "python",
   "name": "python3"
  },
  "language_info": {
   "codemirror_mode": {
    "name": "ipython",
    "version": 3
   },
   "file_extension": ".py",
   "mimetype": "text/x-python",
   "name": "python",
   "nbconvert_exporter": "python",
   "pygments_lexer": "ipython3",
   "version": "3.11.4"
  }
 },
 "nbformat": 4,
 "nbformat_minor": 2
}
